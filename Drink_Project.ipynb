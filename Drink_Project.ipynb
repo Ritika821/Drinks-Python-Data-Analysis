{
 "cells": [
  {
   "cell_type": "markdown",
   "id": "51e82dc0-73f0-4390-a57e-671117271943",
   "metadata": {},
   "source": [
    "# Drinks Project"
   ]
  },
  {
   "cell_type": "markdown",
   "id": "b50d08a6-950b-4a7a-9a2b-d5d08db2c515",
   "metadata": {},
   "source": [
    "## Import the necessary libraries"
   ]
  },
  {
   "cell_type": "code",
   "execution_count": 1,
   "id": "67625ad7-486d-4f4c-88d8-bdc34f9b4204",
   "metadata": {},
   "outputs": [],
   "source": [
    "import numpy as np\n",
    "import pandas as pd\n",
    "import matplotlib.pyplot as plt\n",
    "import seaborn as sns"
   ]
  },
  {
   "cell_type": "markdown",
   "id": "8ea9a48b-d945-4814-87ef-8dca4149a057",
   "metadata": {},
   "source": [
    "## Import the Dataset"
   ]
  },
  {
   "cell_type": "code",
   "execution_count": 2,
   "id": "71c82590-d2e3-4acf-bcea-f84ba439eb53",
   "metadata": {},
   "outputs": [],
   "source": [
    "df = pd.read_csv('https://raw.githubusercontent.com/justmarkham/DAT8/master/data/drinks.csv')"
   ]
  },
  {
   "cell_type": "markdown",
   "id": "04515e0d-b802-47f2-b9cd-a77051c84744",
   "metadata": {},
   "source": [
    "## Assign it to a variable called Drinks"
   ]
  },
  {
   "cell_type": "code",
   "execution_count": 3,
   "id": "7c1d5121-fb9a-4e48-a0b3-04e6fb229061",
   "metadata": {},
   "outputs": [
    {
     "data": {
      "text/html": [
       "<div>\n",
       "<style scoped>\n",
       "    .dataframe tbody tr th:only-of-type {\n",
       "        vertical-align: middle;\n",
       "    }\n",
       "\n",
       "    .dataframe tbody tr th {\n",
       "        vertical-align: top;\n",
       "    }\n",
       "\n",
       "    .dataframe thead th {\n",
       "        text-align: right;\n",
       "    }\n",
       "</style>\n",
       "<table border=\"1\" class=\"dataframe\">\n",
       "  <thead>\n",
       "    <tr style=\"text-align: right;\">\n",
       "      <th></th>\n",
       "      <th>country</th>\n",
       "      <th>beer_servings</th>\n",
       "      <th>spirit_servings</th>\n",
       "      <th>wine_servings</th>\n",
       "      <th>total_litres_of_pure_alcohol</th>\n",
       "      <th>continent</th>\n",
       "    </tr>\n",
       "  </thead>\n",
       "  <tbody>\n",
       "    <tr>\n",
       "      <th>0</th>\n",
       "      <td>Afghanistan</td>\n",
       "      <td>0</td>\n",
       "      <td>0</td>\n",
       "      <td>0</td>\n",
       "      <td>0.0</td>\n",
       "      <td>AS</td>\n",
       "    </tr>\n",
       "    <tr>\n",
       "      <th>1</th>\n",
       "      <td>Albania</td>\n",
       "      <td>89</td>\n",
       "      <td>132</td>\n",
       "      <td>54</td>\n",
       "      <td>4.9</td>\n",
       "      <td>EU</td>\n",
       "    </tr>\n",
       "    <tr>\n",
       "      <th>2</th>\n",
       "      <td>Algeria</td>\n",
       "      <td>25</td>\n",
       "      <td>0</td>\n",
       "      <td>14</td>\n",
       "      <td>0.7</td>\n",
       "      <td>AF</td>\n",
       "    </tr>\n",
       "    <tr>\n",
       "      <th>3</th>\n",
       "      <td>Andorra</td>\n",
       "      <td>245</td>\n",
       "      <td>138</td>\n",
       "      <td>312</td>\n",
       "      <td>12.4</td>\n",
       "      <td>EU</td>\n",
       "    </tr>\n",
       "    <tr>\n",
       "      <th>4</th>\n",
       "      <td>Angola</td>\n",
       "      <td>217</td>\n",
       "      <td>57</td>\n",
       "      <td>45</td>\n",
       "      <td>5.9</td>\n",
       "      <td>AF</td>\n",
       "    </tr>\n",
       "  </tbody>\n",
       "</table>\n",
       "</div>"
      ],
      "text/plain": [
       "       country  beer_servings  spirit_servings  wine_servings  \\\n",
       "0  Afghanistan              0                0              0   \n",
       "1      Albania             89              132             54   \n",
       "2      Algeria             25                0             14   \n",
       "3      Andorra            245              138            312   \n",
       "4       Angola            217               57             45   \n",
       "\n",
       "   total_litres_of_pure_alcohol continent  \n",
       "0                           0.0        AS  \n",
       "1                           4.9        EU  \n",
       "2                           0.7        AF  \n",
       "3                          12.4        EU  \n",
       "4                           5.9        AF  "
      ]
     },
     "execution_count": 3,
     "metadata": {},
     "output_type": "execute_result"
    }
   ],
   "source": [
    "drinks = df\n",
    "drinks.head()"
   ]
  },
  {
   "cell_type": "markdown",
   "id": "4a89ab05-525f-4cea-a64e-494bab427242",
   "metadata": {},
   "source": [
    "## Number of rows and columns in the dataset"
   ]
  },
  {
   "cell_type": "code",
   "execution_count": 4,
   "id": "76279792-2403-4397-baf8-055ee8146288",
   "metadata": {},
   "outputs": [
    {
     "data": {
      "text/plain": [
       "(193, 6)"
      ]
     },
     "execution_count": 4,
     "metadata": {},
     "output_type": "execute_result"
    }
   ],
   "source": [
    "drinks.shape"
   ]
  },
  {
   "cell_type": "markdown",
   "id": "c8d9ae09-a6ba-4cb3-9686-00c55bd711ac",
   "metadata": {},
   "source": [
    "## Summarize all columns"
   ]
  },
  {
   "cell_type": "code",
   "execution_count": 22,
   "id": "6b6fd3ea-afeb-42e8-a6e9-aedb1538624f",
   "metadata": {},
   "outputs": [
    {
     "data": {
      "text/html": [
       "<div>\n",
       "<style scoped>\n",
       "    .dataframe tbody tr th:only-of-type {\n",
       "        vertical-align: middle;\n",
       "    }\n",
       "\n",
       "    .dataframe tbody tr th {\n",
       "        vertical-align: top;\n",
       "    }\n",
       "\n",
       "    .dataframe thead th {\n",
       "        text-align: right;\n",
       "    }\n",
       "</style>\n",
       "<table border=\"1\" class=\"dataframe\">\n",
       "  <thead>\n",
       "    <tr style=\"text-align: right;\">\n",
       "      <th></th>\n",
       "      <th>country</th>\n",
       "      <th>beer_servings</th>\n",
       "      <th>spirit_servings</th>\n",
       "      <th>wine_servings</th>\n",
       "      <th>total_litres_of_pure_alcohol</th>\n",
       "      <th>continent</th>\n",
       "    </tr>\n",
       "  </thead>\n",
       "  <tbody>\n",
       "    <tr>\n",
       "      <th>count</th>\n",
       "      <td>193</td>\n",
       "      <td>193.000000</td>\n",
       "      <td>193.000000</td>\n",
       "      <td>193.000000</td>\n",
       "      <td>193.000000</td>\n",
       "      <td>170</td>\n",
       "    </tr>\n",
       "    <tr>\n",
       "      <th>unique</th>\n",
       "      <td>193</td>\n",
       "      <td>NaN</td>\n",
       "      <td>NaN</td>\n",
       "      <td>NaN</td>\n",
       "      <td>NaN</td>\n",
       "      <td>5</td>\n",
       "    </tr>\n",
       "    <tr>\n",
       "      <th>top</th>\n",
       "      <td>Afghanistan</td>\n",
       "      <td>NaN</td>\n",
       "      <td>NaN</td>\n",
       "      <td>NaN</td>\n",
       "      <td>NaN</td>\n",
       "      <td>AF</td>\n",
       "    </tr>\n",
       "    <tr>\n",
       "      <th>freq</th>\n",
       "      <td>1</td>\n",
       "      <td>NaN</td>\n",
       "      <td>NaN</td>\n",
       "      <td>NaN</td>\n",
       "      <td>NaN</td>\n",
       "      <td>53</td>\n",
       "    </tr>\n",
       "    <tr>\n",
       "      <th>mean</th>\n",
       "      <td>NaN</td>\n",
       "      <td>106.160622</td>\n",
       "      <td>80.994819</td>\n",
       "      <td>49.450777</td>\n",
       "      <td>4.717098</td>\n",
       "      <td>NaN</td>\n",
       "    </tr>\n",
       "    <tr>\n",
       "      <th>std</th>\n",
       "      <td>NaN</td>\n",
       "      <td>101.143103</td>\n",
       "      <td>88.284312</td>\n",
       "      <td>79.697598</td>\n",
       "      <td>3.773298</td>\n",
       "      <td>NaN</td>\n",
       "    </tr>\n",
       "    <tr>\n",
       "      <th>min</th>\n",
       "      <td>NaN</td>\n",
       "      <td>0.000000</td>\n",
       "      <td>0.000000</td>\n",
       "      <td>0.000000</td>\n",
       "      <td>0.000000</td>\n",
       "      <td>NaN</td>\n",
       "    </tr>\n",
       "    <tr>\n",
       "      <th>25%</th>\n",
       "      <td>NaN</td>\n",
       "      <td>20.000000</td>\n",
       "      <td>4.000000</td>\n",
       "      <td>1.000000</td>\n",
       "      <td>1.300000</td>\n",
       "      <td>NaN</td>\n",
       "    </tr>\n",
       "    <tr>\n",
       "      <th>50%</th>\n",
       "      <td>NaN</td>\n",
       "      <td>76.000000</td>\n",
       "      <td>56.000000</td>\n",
       "      <td>8.000000</td>\n",
       "      <td>4.200000</td>\n",
       "      <td>NaN</td>\n",
       "    </tr>\n",
       "    <tr>\n",
       "      <th>75%</th>\n",
       "      <td>NaN</td>\n",
       "      <td>188.000000</td>\n",
       "      <td>128.000000</td>\n",
       "      <td>59.000000</td>\n",
       "      <td>7.200000</td>\n",
       "      <td>NaN</td>\n",
       "    </tr>\n",
       "    <tr>\n",
       "      <th>max</th>\n",
       "      <td>NaN</td>\n",
       "      <td>376.000000</td>\n",
       "      <td>438.000000</td>\n",
       "      <td>370.000000</td>\n",
       "      <td>14.400000</td>\n",
       "      <td>NaN</td>\n",
       "    </tr>\n",
       "  </tbody>\n",
       "</table>\n",
       "</div>"
      ],
      "text/plain": [
       "            country  beer_servings  spirit_servings  wine_servings  \\\n",
       "count           193     193.000000       193.000000     193.000000   \n",
       "unique          193            NaN              NaN            NaN   \n",
       "top     Afghanistan            NaN              NaN            NaN   \n",
       "freq              1            NaN              NaN            NaN   \n",
       "mean            NaN     106.160622        80.994819      49.450777   \n",
       "std             NaN     101.143103        88.284312      79.697598   \n",
       "min             NaN       0.000000         0.000000       0.000000   \n",
       "25%             NaN      20.000000         4.000000       1.000000   \n",
       "50%             NaN      76.000000        56.000000       8.000000   \n",
       "75%             NaN     188.000000       128.000000      59.000000   \n",
       "max             NaN     376.000000       438.000000     370.000000   \n",
       "\n",
       "        total_litres_of_pure_alcohol continent  \n",
       "count                     193.000000       170  \n",
       "unique                           NaN         5  \n",
       "top                              NaN        AF  \n",
       "freq                             NaN        53  \n",
       "mean                        4.717098       NaN  \n",
       "std                         3.773298       NaN  \n",
       "min                         0.000000       NaN  \n",
       "25%                         1.300000       NaN  \n",
       "50%                         4.200000       NaN  \n",
       "75%                         7.200000       NaN  \n",
       "max                        14.400000       NaN  "
      ]
     },
     "execution_count": 22,
     "metadata": {},
     "output_type": "execute_result"
    }
   ],
   "source": [
    "drinks.describe(include = 'all')"
   ]
  },
  {
   "cell_type": "markdown",
   "id": "09e9ba9c-d810-444d-90bf-0f578e3cdb57",
   "metadata": {},
   "source": [
    "## Different Countries in the dataset"
   ]
  },
  {
   "cell_type": "code",
   "execution_count": 5,
   "id": "45aefd84-6cdb-4a51-93db-332474dee82b",
   "metadata": {},
   "outputs": [
    {
     "name": "stdout",
     "output_type": "stream",
     "text": [
      "193\n",
      "['Afghanistan' 'Albania' 'Algeria' 'Andorra' 'Angola' 'Antigua & Barbuda'\n",
      " 'Argentina' 'Armenia' 'Australia' 'Austria' 'Azerbaijan' 'Bahamas'\n",
      " 'Bahrain' 'Bangladesh' 'Barbados' 'Belarus' 'Belgium' 'Belize' 'Benin'\n",
      " 'Bhutan' 'Bolivia' 'Bosnia-Herzegovina' 'Botswana' 'Brazil' 'Brunei'\n",
      " 'Bulgaria' 'Burkina Faso' 'Burundi' \"Cote d'Ivoire\" 'Cabo Verde'\n",
      " 'Cambodia' 'Cameroon' 'Canada' 'Central African Republic' 'Chad' 'Chile'\n",
      " 'China' 'Colombia' 'Comoros' 'Congo' 'Cook Islands' 'Costa Rica'\n",
      " 'Croatia' 'Cuba' 'Cyprus' 'Czech Republic' 'North Korea' 'DR Congo'\n",
      " 'Denmark' 'Djibouti' 'Dominica' 'Dominican Republic' 'Ecuador' 'Egypt'\n",
      " 'El Salvador' 'Equatorial Guinea' 'Eritrea' 'Estonia' 'Ethiopia' 'Fiji'\n",
      " 'Finland' 'France' 'Gabon' 'Gambia' 'Georgia' 'Germany' 'Ghana' 'Greece'\n",
      " 'Grenada' 'Guatemala' 'Guinea' 'Guinea-Bissau' 'Guyana' 'Haiti'\n",
      " 'Honduras' 'Hungary' 'Iceland' 'India' 'Indonesia' 'Iran' 'Iraq'\n",
      " 'Ireland' 'Israel' 'Italy' 'Jamaica' 'Japan' 'Jordan' 'Kazakhstan'\n",
      " 'Kenya' 'Kiribati' 'Kuwait' 'Kyrgyzstan' 'Laos' 'Latvia' 'Lebanon'\n",
      " 'Lesotho' 'Liberia' 'Libya' 'Lithuania' 'Luxembourg' 'Madagascar'\n",
      " 'Malawi' 'Malaysia' 'Maldives' 'Mali' 'Malta' 'Marshall Islands'\n",
      " 'Mauritania' 'Mauritius' 'Mexico' 'Micronesia' 'Monaco' 'Mongolia'\n",
      " 'Montenegro' 'Morocco' 'Mozambique' 'Myanmar' 'Namibia' 'Nauru' 'Nepal'\n",
      " 'Netherlands' 'New Zealand' 'Nicaragua' 'Niger' 'Nigeria' 'Niue' 'Norway'\n",
      " 'Oman' 'Pakistan' 'Palau' 'Panama' 'Papua New Guinea' 'Paraguay' 'Peru'\n",
      " 'Philippines' 'Poland' 'Portugal' 'Qatar' 'South Korea' 'Moldova'\n",
      " 'Romania' 'Russian Federation' 'Rwanda' 'St. Kitts & Nevis' 'St. Lucia'\n",
      " 'St. Vincent & the Grenadines' 'Samoa' 'San Marino' 'Sao Tome & Principe'\n",
      " 'Saudi Arabia' 'Senegal' 'Serbia' 'Seychelles' 'Sierra Leone' 'Singapore'\n",
      " 'Slovakia' 'Slovenia' 'Solomon Islands' 'Somalia' 'South Africa' 'Spain'\n",
      " 'Sri Lanka' 'Sudan' 'Suriname' 'Swaziland' 'Sweden' 'Switzerland' 'Syria'\n",
      " 'Tajikistan' 'Thailand' 'Macedonia' 'Timor-Leste' 'Togo' 'Tonga'\n",
      " 'Trinidad & Tobago' 'Tunisia' 'Turkey' 'Turkmenistan' 'Tuvalu' 'Uganda'\n",
      " 'Ukraine' 'United Arab Emirates' 'United Kingdom' 'Tanzania' 'USA'\n",
      " 'Uruguay' 'Uzbekistan' 'Vanuatu' 'Venezuela' 'Vietnam' 'Yemen' 'Zambia'\n",
      " 'Zimbabwe']\n"
     ]
    }
   ],
   "source": [
    "print(drinks['country'].nunique())\n",
    "print(drinks['country'].unique())"
   ]
  },
  {
   "cell_type": "markdown",
   "id": "282e70f3-45bb-48cf-88f5-e1270115a81b",
   "metadata": {},
   "source": [
    "## Different Continents in the dataset"
   ]
  },
  {
   "cell_type": "code",
   "execution_count": 6,
   "id": "a4a033eb-1c0a-4d41-a1be-42f914ae3393",
   "metadata": {},
   "outputs": [
    {
     "name": "stdout",
     "output_type": "stream",
     "text": [
      "5\n",
      "['AS' 'EU' 'AF' nan 'SA' 'OC']\n"
     ]
    }
   ],
   "source": [
    "print(drinks['continent'].nunique())\n",
    "print(drinks['continent'].unique())"
   ]
  },
  {
   "cell_type": "markdown",
   "id": "492b3159-5f67-41a8-b5df-8a60b49f2826",
   "metadata": {},
   "source": [
    "## Print out the number of countries having beer servings greater than equal to 100"
   ]
  },
  {
   "cell_type": "code",
   "execution_count": 7,
   "id": "5475b8f8-729b-46cd-a8ee-5239724b45f1",
   "metadata": {},
   "outputs": [
    {
     "name": "stdout",
     "output_type": "stream",
     "text": [
      "79\n"
     ]
    }
   ],
   "source": [
    "print(drinks[drinks['beer_servings']>=100]['country'].nunique())"
   ]
  },
  {
   "cell_type": "markdown",
   "id": "60930703-5c34-4a2a-8bb2-d5fe8fb75237",
   "metadata": {},
   "source": [
    "## Print out the number of countries having wine servings greater than equal to 50 and litres of alcohol greater than equal to 3"
   ]
  },
  {
   "cell_type": "code",
   "execution_count": 8,
   "id": "c4ca2932-3346-4006-888e-358c72427dcc",
   "metadata": {},
   "outputs": [
    {
     "name": "stdout",
     "output_type": "stream",
     "text": [
      "55\n"
     ]
    }
   ],
   "source": [
    "filter_drink = drinks[(drinks['wine_servings']>=50) & (drinks['total_litres_of_pure_alcohol']>=3)]\n",
    "print(filter_drink.country.nunique())"
   ]
  },
  {
   "cell_type": "markdown",
   "id": "40f0071d-1a12-42e7-becf-ff50064e59cd",
   "metadata": {},
   "source": [
    "## Which continent drinks more beer on average ?"
   ]
  },
  {
   "cell_type": "code",
   "execution_count": 9,
   "id": "d52bbf58-acb9-4085-822c-f7eaa7c16cff",
   "metadata": {},
   "outputs": [
    {
     "data": {
      "text/plain": [
       "continent\n",
       "EU    8720\n",
       "Name: beer_servings, dtype: int64"
      ]
     },
     "execution_count": 9,
     "metadata": {},
     "output_type": "execute_result"
    }
   ],
   "source": [
    "beers = drinks.groupby('continent').sum()\n",
    "beers['beer_servings'].sort_values(ascending=False).head(1)"
   ]
  },
  {
   "cell_type": "markdown",
   "id": "e16135dc-349a-4bb3-aa60-ae97bde97cef",
   "metadata": {},
   "source": [
    "## For each continent print the statistics for wine consumption."
   ]
  },
  {
   "cell_type": "code",
   "execution_count": 10,
   "id": "1f538e80-1142-476d-b183-371672a8fb61",
   "metadata": {},
   "outputs": [
    {
     "data": {
      "text/plain": [
       "continent\n",
       "EU    6400\n",
       "AF     862\n",
       "SA     749\n",
       "OC     570\n",
       "AS     399\n",
       "Name: wine_servings, dtype: int64"
      ]
     },
     "execution_count": 10,
     "metadata": {},
     "output_type": "execute_result"
    }
   ],
   "source": [
    "wines = drinks.groupby('continent').sum()\n",
    "wines['wine_servings'].sort_values(ascending=False)"
   ]
  },
  {
   "cell_type": "markdown",
   "id": "7ad5772d-142e-4aab-b259-01d9d0260ea0",
   "metadata": {},
   "source": [
    "## Print the mean alcohol consumption per continent for every column"
   ]
  },
  {
   "cell_type": "code",
   "execution_count": 11,
   "id": "10ac7237-48d2-4b30-82e5-4baf9cc26cba",
   "metadata": {},
   "outputs": [
    {
     "data": {
      "text/html": [
       "<div>\n",
       "<style scoped>\n",
       "    .dataframe tbody tr th:only-of-type {\n",
       "        vertical-align: middle;\n",
       "    }\n",
       "\n",
       "    .dataframe tbody tr th {\n",
       "        vertical-align: top;\n",
       "    }\n",
       "\n",
       "    .dataframe thead th {\n",
       "        text-align: right;\n",
       "    }\n",
       "</style>\n",
       "<table border=\"1\" class=\"dataframe\">\n",
       "  <thead>\n",
       "    <tr style=\"text-align: right;\">\n",
       "      <th></th>\n",
       "      <th>beer_servings</th>\n",
       "      <th>spirit_servings</th>\n",
       "      <th>wine_servings</th>\n",
       "      <th>total_litres_of_pure_alcohol</th>\n",
       "    </tr>\n",
       "    <tr>\n",
       "      <th>continent</th>\n",
       "      <th></th>\n",
       "      <th></th>\n",
       "      <th></th>\n",
       "      <th></th>\n",
       "    </tr>\n",
       "  </thead>\n",
       "  <tbody>\n",
       "    <tr>\n",
       "      <th>AF</th>\n",
       "      <td>61.471698</td>\n",
       "      <td>16.339623</td>\n",
       "      <td>16.264151</td>\n",
       "      <td>3.007547</td>\n",
       "    </tr>\n",
       "    <tr>\n",
       "      <th>AS</th>\n",
       "      <td>37.045455</td>\n",
       "      <td>60.840909</td>\n",
       "      <td>9.068182</td>\n",
       "      <td>2.170455</td>\n",
       "    </tr>\n",
       "    <tr>\n",
       "      <th>EU</th>\n",
       "      <td>193.777778</td>\n",
       "      <td>132.555556</td>\n",
       "      <td>142.222222</td>\n",
       "      <td>8.617778</td>\n",
       "    </tr>\n",
       "    <tr>\n",
       "      <th>OC</th>\n",
       "      <td>89.687500</td>\n",
       "      <td>58.437500</td>\n",
       "      <td>35.625000</td>\n",
       "      <td>3.381250</td>\n",
       "    </tr>\n",
       "    <tr>\n",
       "      <th>SA</th>\n",
       "      <td>175.083333</td>\n",
       "      <td>114.750000</td>\n",
       "      <td>62.416667</td>\n",
       "      <td>6.308333</td>\n",
       "    </tr>\n",
       "  </tbody>\n",
       "</table>\n",
       "</div>"
      ],
      "text/plain": [
       "           beer_servings  spirit_servings  wine_servings  \\\n",
       "continent                                                  \n",
       "AF             61.471698        16.339623      16.264151   \n",
       "AS             37.045455        60.840909       9.068182   \n",
       "EU            193.777778       132.555556     142.222222   \n",
       "OC             89.687500        58.437500      35.625000   \n",
       "SA            175.083333       114.750000      62.416667   \n",
       "\n",
       "           total_litres_of_pure_alcohol  \n",
       "continent                                \n",
       "AF                             3.007547  \n",
       "AS                             2.170455  \n",
       "EU                             8.617778  \n",
       "OC                             3.381250  \n",
       "SA                             6.308333  "
      ]
     },
     "execution_count": 11,
     "metadata": {},
     "output_type": "execute_result"
    }
   ],
   "source": [
    "drinks.groupby('continent').mean(numeric_only=True)"
   ]
  },
  {
   "cell_type": "markdown",
   "id": "7a4fae89-fc85-4c29-ab12-923eb61cae26",
   "metadata": {},
   "source": [
    "## Print the median alcohol consumption per continent for every column"
   ]
  },
  {
   "cell_type": "code",
   "execution_count": 12,
   "id": "81ab221d-6848-44a7-9094-24875de4ce8f",
   "metadata": {},
   "outputs": [
    {
     "data": {
      "text/html": [
       "<div>\n",
       "<style scoped>\n",
       "    .dataframe tbody tr th:only-of-type {\n",
       "        vertical-align: middle;\n",
       "    }\n",
       "\n",
       "    .dataframe tbody tr th {\n",
       "        vertical-align: top;\n",
       "    }\n",
       "\n",
       "    .dataframe thead th {\n",
       "        text-align: right;\n",
       "    }\n",
       "</style>\n",
       "<table border=\"1\" class=\"dataframe\">\n",
       "  <thead>\n",
       "    <tr style=\"text-align: right;\">\n",
       "      <th></th>\n",
       "      <th>beer_servings</th>\n",
       "      <th>spirit_servings</th>\n",
       "      <th>wine_servings</th>\n",
       "      <th>total_litres_of_pure_alcohol</th>\n",
       "    </tr>\n",
       "    <tr>\n",
       "      <th>continent</th>\n",
       "      <th></th>\n",
       "      <th></th>\n",
       "      <th></th>\n",
       "      <th></th>\n",
       "    </tr>\n",
       "  </thead>\n",
       "  <tbody>\n",
       "    <tr>\n",
       "      <th>AF</th>\n",
       "      <td>32.0</td>\n",
       "      <td>3.0</td>\n",
       "      <td>2.0</td>\n",
       "      <td>2.30</td>\n",
       "    </tr>\n",
       "    <tr>\n",
       "      <th>AS</th>\n",
       "      <td>17.5</td>\n",
       "      <td>16.0</td>\n",
       "      <td>1.0</td>\n",
       "      <td>1.20</td>\n",
       "    </tr>\n",
       "    <tr>\n",
       "      <th>EU</th>\n",
       "      <td>219.0</td>\n",
       "      <td>122.0</td>\n",
       "      <td>128.0</td>\n",
       "      <td>10.00</td>\n",
       "    </tr>\n",
       "    <tr>\n",
       "      <th>OC</th>\n",
       "      <td>52.5</td>\n",
       "      <td>37.0</td>\n",
       "      <td>8.5</td>\n",
       "      <td>1.75</td>\n",
       "    </tr>\n",
       "    <tr>\n",
       "      <th>SA</th>\n",
       "      <td>162.5</td>\n",
       "      <td>108.5</td>\n",
       "      <td>12.0</td>\n",
       "      <td>6.85</td>\n",
       "    </tr>\n",
       "  </tbody>\n",
       "</table>\n",
       "</div>"
      ],
      "text/plain": [
       "           beer_servings  spirit_servings  wine_servings  \\\n",
       "continent                                                  \n",
       "AF                  32.0              3.0            2.0   \n",
       "AS                  17.5             16.0            1.0   \n",
       "EU                 219.0            122.0          128.0   \n",
       "OC                  52.5             37.0            8.5   \n",
       "SA                 162.5            108.5           12.0   \n",
       "\n",
       "           total_litres_of_pure_alcohol  \n",
       "continent                                \n",
       "AF                                 2.30  \n",
       "AS                                 1.20  \n",
       "EU                                10.00  \n",
       "OC                                 1.75  \n",
       "SA                                 6.85  "
      ]
     },
     "execution_count": 12,
     "metadata": {},
     "output_type": "execute_result"
    }
   ],
   "source": [
    "drinks.groupby('continent').median(numeric_only=True)"
   ]
  },
  {
   "cell_type": "markdown",
   "id": "f0aff1de-a9f8-428d-99f2-f5b185290e2d",
   "metadata": {},
   "source": [
    "## Print the mean, min and max values for spirit consumption"
   ]
  },
  {
   "cell_type": "code",
   "execution_count": 13,
   "id": "19858b46-ab8a-43d0-bd96-f72b9040e882",
   "metadata": {},
   "outputs": [
    {
     "name": "stdout",
     "output_type": "stream",
     "text": [
      "mean : 80.99481865284974\n",
      "minimum : 0\n",
      "maximum : 438\n"
     ]
    }
   ],
   "source": [
    "mean_s = drinks['spirit_servings'].mean()\n",
    "print('mean :',mean_s)\n",
    "min_s = drinks['spirit_servings'].min()\n",
    "print('minimum :',min_s)\n",
    "max_s = drinks['spirit_servings'].max()\n",
    "print('maximum :',max_s)"
   ]
  },
  {
   "cell_type": "markdown",
   "id": "4b850223-f06b-4524-b3ac-7a392014491e",
   "metadata": {},
   "source": [
    "## Which Continents has highest serving of Beer, Wine, Spirit and Alcohol ?"
   ]
  },
  {
   "cell_type": "code",
   "execution_count": 14,
   "id": "35a74f6e-ad43-4005-8dd4-2459205dcf76",
   "metadata": {},
   "outputs": [
    {
     "name": "stdout",
     "output_type": "stream",
     "text": [
      "Maximum Consumption of Beer continent\n",
      "EU    8720\n",
      "Name: beer_servings, dtype: int64\n",
      "Maximum Consumption of Wine continent\n",
      "EU    6400\n",
      "Name: wine_servings, dtype: int64\n",
      "Maximum Consumption of spirit continent\n",
      "EU    5965\n",
      "Name: spirit_servings, dtype: int64\n",
      "Maximum Consumption of alcohol continent\n",
      "EU    387.8\n",
      "Name: total_litres_of_pure_alcohol, dtype: float64\n"
     ]
    }
   ],
   "source": [
    "serving = drinks.groupby('continent').sum()\n",
    "beer = serving['beer_servings'].sort_values(ascending = False).head(1)\n",
    "wine = serving['wine_servings'].sort_values(ascending = False).head(1)\n",
    "spirit = serving['spirit_servings'].sort_values(ascending = False).head(1)\n",
    "alcohol = serving['total_litres_of_pure_alcohol'].sort_values(ascending = False).head(1)\n",
    "print('Maximum Consumption of Beer', beer)\n",
    "print('Maximum Consumption of Wine', wine)\n",
    "print('Maximum Consumption of spirit', spirit)\n",
    "print('Maximum Consumption of alcohol', alcohol)"
   ]
  },
  {
   "cell_type": "markdown",
   "id": "87a7014a-743d-44af-a455-132e39cad228",
   "metadata": {},
   "source": [
    "## Which Countries has highest serving of Beer, Wine, Spirit and Alcohol ?"
   ]
  },
  {
   "cell_type": "code",
   "execution_count": 38,
   "id": "1e8f5c69-ae79-48fd-b64e-88180ecae501",
   "metadata": {},
   "outputs": [
    {
     "name": "stdout",
     "output_type": "stream",
     "text": [
      "beer ['Namibia'] 376\n",
      "wine ['France'] 370\n",
      "spirit ['Grenada'] 438\n",
      "alcohol ['Belarus'] 14.4\n"
     ]
    }
   ],
   "source": [
    "beermax = drinks['beer_servings'].max()\n",
    "beer = drinks[drinks['beer_servings']== beermax]['country'].unique()\n",
    "print('beer',beer,beermax)\n",
    "winemax = drinks['wine_servings'].max()\n",
    "wine = drinks[drinks['wine_servings']== winemax]['country'].unique()\n",
    "print('wine',wine,winemax)\n",
    "spiritmax = drinks['spirit_servings'].max()\n",
    "spirit = drinks[drinks['spirit_servings']== spiritmax]['country'].unique()\n",
    "print('spirit',spirit,spiritmax)\n",
    "alcoholmax = drinks['total_litres_of_pure_alcohol'].max()\n",
    "alcohol = drinks[drinks['total_litres_of_pure_alcohol']== alcoholmax]['country'].unique()\n",
    "print('alcohol',alcohol,alcoholmax)"
   ]
  },
  {
   "cell_type": "markdown",
   "id": "a5497118-8798-49f0-8caf-58c8c1dd6ebc",
   "metadata": {},
   "source": [
    "## Graph"
   ]
  },
  {
   "cell_type": "code",
   "execution_count": 17,
   "id": "20cae4d7-7791-445a-bd1b-ecbff6ba003b",
   "metadata": {},
   "outputs": [
    {
     "data": {
      "image/png": "[encoded data removed]",
      "text/plain": [
       "<Figure size 640x480 with 1 Axes>"
      ]
     },
     "metadata": {},
     "output_type": "display_data"
    },
    {
     "data": {
      "image/png": "[encoded data removed]",
      "text/plain": [
       "<Figure size 640x480 with 1 Axes>"
      ]
     },
     "metadata": {},
     "output_type": "display_data"
    },
    {
     "data": {
      "image/png": "[encoded data removed]",
      "text/plain": [
       "<Figure size 640x480 with 1 Axes>"
      ]
     },
     "metadata": {},
     "output_type": "display_data"
    },
    {
     "data": {
      "image/png": "[encoded data removed]",
      "text/plain": [
       "<Figure size 640x480 with 1 Axes>"
      ]
     },
     "metadata": {},
     "output_type": "display_data"
    }
   ],
   "source": [
    "beerplot = sns.barplot(x=serving.index, y=serving['beer_servings'], data = serving)\n",
    "plt.show()\n",
    "wineplot = sns.barplot(x=serving.index, y=serving['wine_servings'], data = serving)\n",
    "plt.show()\n",
    "spiritplot = sns.barplot(x=serving.index, y=serving['spirit_servings'], data = serving)\n",
    "plt.show()\n",
    "alcohol_plot = sns.barplot(x=serving.index, y=serving['total_litres_of_pure_alcohol'], data = serving)\n",
    "plt.show()"
   ]
  },
  {
   "cell_type": "markdown",
   "id": "0f029e39-543f-46b8-8df3-c573a903a3ca",
   "metadata": {},
   "source": [
    "## Conclusion"
   ]
  },
  {
   "cell_type": "markdown",
   "id": "52aac80e-75b5-4275-9456-f9c712413758",
   "metadata": {},
   "source": [
    "From the above analysis we can conclude that there are total 193 countries and 5 countinents in the dataset under which:\n",
    "1. there are total 79 countries whose beer servings is greater than equal to 100,\n",
    "2. there are total 55 countries whose wine servings is greater than equal to 50 and total liters of alcohol is greater than equal to 3,\n",
    "3. Europe is the continent that consumes maximum amount of beer, wine, spirit, and alcohol among all,\n",
    "4. Beer is mostly consumed in Namibia which is in Southern Africa,\n",
    "5. Wine is mostly consumed in France which is in Europe,\n",
    "6. Spirit is mostly consumed in Grenada which is in Caribbean and\n",
    "7. Alcohol is mostly consumed in Belarus which is in Europe.\n",
    "\n",
    "Hence, Europe is the top most consumer of the drinks and has highest contribution in the worldwide drink market."
   ]
  },
  {
   "cell_type": "code",
   "execution_count": null,
   "id": "a511dc81-06bf-4bbc-abef-6963da959471",
   "metadata": {},
   "outputs": [],
   "source": []
  }
 ],
 "metadata": {
  "kernelspec": {
   "display_name": "Python 3 (ipykernel)",
   "language": "python",
   "name": "python3"
  },
  "language_info": {
   "codemirror_mode": {
    "name": "ipython",
    "version": 3
   },
   "file_extension": ".py",
   "mimetype": "text/x-python",
   "name": "python",
   "nbconvert_exporter": "python",
   "pygments_lexer": "ipython3",
   "version": "3.11.7"
  }
 },
 "nbformat": 4,
 "nbformat_minor": 5
}
